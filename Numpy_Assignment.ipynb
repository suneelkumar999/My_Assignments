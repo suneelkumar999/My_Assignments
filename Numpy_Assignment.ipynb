{
 "cells": [
  {
   "cell_type": "markdown",
   "metadata": {},
   "source": [
    "# Numpy Assignment"
   ]
  },
  {
   "cell_type": "markdown",
   "metadata": {},
   "source": [
    "### 1.Write a function so that the columns of the output matrix are powers of the input vector. The order of the powers is determined by the increasing boolean argument. Specifically, when increasing is False, the i-th output column is the input vector raised element-wise to the power of N - i - 1. \n",
    "### HINT: Such a matrix with a geometric progression in each row is named for Alexandre-Theophile Vandermonde."
   ]
  },
  {
   "cell_type": "code",
   "execution_count": 1,
   "metadata": {},
   "outputs": [],
   "source": [
    "def Vandermonde(my_list,n,increasing):\n",
    "    import numpy as np\n",
    "    if increasing == True:\n",
    "        output = np.array([[i**j for j in range(n)] for i in my_list])\n",
    "        print(output)\n",
    "    else:\n",
    "        output=np.array([[i**j for j in range((n-1),-1,-1)] for i in my_list])\n",
    "        print(output)"
   ]
  },
  {
   "cell_type": "code",
   "execution_count": 2,
   "metadata": {},
   "outputs": [
    {
     "name": "stdout",
     "output_type": "stream",
     "text": [
      "[[ 1  1  1  1]\n",
      " [ 8  4  2  1]\n",
      " [27  9  3  1]\n",
      " [64 16  4  1]]\n"
     ]
    }
   ],
   "source": [
    "Vandermonde([1,2,3,4],4,False)"
   ]
  },
  {
   "cell_type": "code",
   "execution_count": 3,
   "metadata": {},
   "outputs": [
    {
     "name": "stdout",
     "output_type": "stream",
     "text": [
      "[[ 1  1  1  1]\n",
      " [ 1  2  4  8]\n",
      " [ 1  3  9 27]\n",
      " [ 1  4 16 64]]\n"
     ]
    }
   ],
   "source": [
    "Vandermonde([1,2,3,4],4,True)"
   ]
  },
  {
   "cell_type": "markdown",
   "metadata": {},
   "source": [
    "##### 2. Given a sequence of n values x1, x2, ..., xn and a window size k>0, the k-th moving average of\n",
    "##### the given sequence is defined as follows:\n",
    "##### The moving average sequence has n-k+1 elements as shown below.\n",
    "##### The moving averages with k=4 of a ten-value sequence (n=10) is shown below\n",
    "##### i 1 2 3 4 5 6 7 8 9 10\n",
    "##### ===== == == == == == == == == == ==\n",
    "##### Input 10 20 30 40 50 60 70 80 90 100\n",
    "##### y1 25 = (10+20+30+40)/4\n",
    "##### y2 35 = (20+30+40+50)/4\n",
    "##### y3 45 = (30+40+50+60)/4\n",
    "##### y4 55 = (40+50+60+70)/4\n",
    "##### y5 65 = (50+60+70+80)/4\n",
    "##### y6 75 = (60+70+80+90)/4\n",
    "##### y7 85 = (70+80+90+100)/4\n",
    "##### Thus, the moving average sequence has n-k+1=10-4+1=7 values."
   ]
  },
  {
   "cell_type": "code",
   "execution_count": 4,
   "metadata": {},
   "outputs": [],
   "source": [
    "def movingaverage(my_list,k):\n",
    "  import numpy as np\n",
    "  input=np.array(my_list)\n",
    "  n=len(input)\n",
    "  i=0\n",
    "  k=4\n",
    "  for i in range(n-k+1):\n",
    "    total=input[i:(i+k)].sum()\n",
    "    average=total/k\n",
    "    print(average) "
   ]
  },
  {
   "cell_type": "code",
   "execution_count": 5,
   "metadata": {},
   "outputs": [
    {
     "name": "stdout",
     "output_type": "stream",
     "text": [
      "25.0\n",
      "35.0\n",
      "45.0\n",
      "55.0\n",
      "65.0\n",
      "75.0\n",
      "85.0\n"
     ]
    }
   ],
   "source": [
    "movingaverage([10,20,30,40,50,60,70,80,90,100],4)"
   ]
  },
  {
   "cell_type": "code",
   "execution_count": 6,
   "metadata": {},
   "outputs": [
    {
     "name": "stdout",
     "output_type": "stream",
     "text": [
      "4.25\n",
      "5.5\n",
      "6.75\n",
      "7.75\n",
      "23.5\n",
      "39.5\n",
      "57.25\n",
      "79.25\n",
      "88.0\n",
      "107.5\n"
     ]
    }
   ],
   "source": [
    "movingaverage([3, 5, 7, 2, 8, 10, 11, 65, 72, 81, 99, 100, 150],3)"
   ]
  }
 ],
 "metadata": {
  "kernelspec": {
   "display_name": "Python 3",
   "language": "python",
   "name": "python3"
  },
  "language_info": {
   "codemirror_mode": {
    "name": "ipython",
    "version": 3
   },
   "file_extension": ".py",
   "mimetype": "text/x-python",
   "name": "python",
   "nbconvert_exporter": "python",
   "pygments_lexer": "ipython3",
   "version": "3.7.4"
  }
 },
 "nbformat": 4,
 "nbformat_minor": 2
}
